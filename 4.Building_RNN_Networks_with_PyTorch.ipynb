{
 "cells": [
  {
   "cell_type": "markdown",
   "metadata": {},
   "source": [
    "## 4.Simple RNN\n",
    "\n",
    "In ths notebook, we're going to train a simple RNN to do **time-series prediction**. Given some set of input data, it should be able to generate a prediction for the next time step!\n",
    "<img src='assets/time_prediction.png' width=40% />\n",
    "\n",
    "> * First, we'll create our data\n",
    "* Then, define an RNN in PyTorch\n",
    "* Finally, we'll train our network and see how it performs"
   ]
  },
  {
   "cell_type": "markdown",
   "metadata": {},
   "source": [
    "### 4.1 Import resources and create data "
   ]
  },
  {
   "cell_type": "code",
   "execution_count": 1,
   "metadata": {},
   "outputs": [],
   "source": [
    "import torch\n",
    "from torch import nn\n",
    "import numpy as np\n",
    "import matplotlib.pyplot as plt\n",
    "%matplotlib inline"
   ]
  },
  {
   "cell_type": "code",
   "execution_count": 2,
   "metadata": {},
   "outputs": [
    {
     "data": {
      "image/png": "[encoded data removed]",
      "text/plain": [
       "<Figure size 576x360 with 1 Axes>"
      ]
     },
     "metadata": {
      "needs_background": "light"
     },
     "output_type": "display_data"
    }
   ],
   "source": [
    "plt.figure(figsize=(8,5))\n",
    "\n",
    "# how many time steps/data pts are in one batch of data\n",
    "seq_length = 20\n",
    "\n",
    "# generate evenly spaced data pts\n",
    "time_steps = np.linspace(0, np.pi, seq_length + 1)\n",
    "data = np.sin(time_steps)\n",
    "data.resize((seq_length + 1, 1)) # size becomes (seq_length+1, 1), adds an input_size dimension\n",
    "\n",
    "x = data[:-1] # all but the last piece of data\n",
    "y = data[1:] # all but the first\n",
    "\n",
    "# display the data\n",
    "plt.plot(time_steps[1:], x, 'r.', label='input, x') # x\n",
    "plt.plot(time_steps[1:], y, 'b.', label='target, y') # y\n",
    "\n",
    "plt.legend(loc='best')\n",
    "plt.show()"
   ]
  },
  {
   "cell_type": "markdown",
   "metadata": {},
   "source": [
    "---\n",
    "### 4.2 Define the RNN\n",
    "\n",
    "Next, we define an RNN in PyTorch. We'll use `nn.RNN` to create an RNN layer, then we'll add a last, fully-connected layer to get the output size that we want. An RNN takes in a number of parameters:\n",
    "* **input_size** - the size of the input\n",
    "* **hidden_dim** - the number of features in the RNN output and in the hidden state\n",
    "* **n_layers** - the number of layers that make up the RNN, typically 1-3; greater than 1 means that you'll create a stacked RNN\n",
    "* **batch_first** - whether or not the input/output of the RNN will have the batch_size as the first dimension (batch_size, seq_length, hidden_dim)\n",
    "\n",
    "Take a look at the [RNN documentation](https://pytorch.org/docs/stable/nn.html#rnn) to read more about recurrent layers."
   ]
  },
  {
   "cell_type": "code",
   "execution_count": 3,
   "metadata": {},
   "outputs": [],
   "source": [
    "class RNN(nn.Module):\n",
    "    def __init__(self, input_size, output_size, hidden_dim, n_layers):\n",
    "        super(RNN, self).__init__()\n",
    "        \n",
    "        self.hidden_dim=hidden_dim\n",
    "\n",
    "        # define an RNN with specified parameters\n",
    "        # batch_first means that the first dim of the input and output will be the batch_size\n",
    "        self.rnn = nn.RNN(input_size, hidden_dim, n_layers, batch_first=True)\n",
    "        \n",
    "        # last, fully-connected layer\n",
    "        self.fc = nn.Linear(hidden_dim, output_size)\n",
    "\n",
    "    def forward(self, x, hidden):\n",
    "        # x (batch_size, seq_length, input_size)\n",
    "        # hidden (n_layers, batch_size, hidden_dim)\n",
    "        # r_out (batch_size, time_step, hidden_size)\n",
    "        batch_size = x.size(0)\n",
    "        \n",
    "        # get RNN outputs\n",
    "        r_out, hidden = self.rnn(x, hidden)\n",
    "        # shape output to be (batch_size*seq_length, hidden_dim)\n",
    "        r_out = r_out.view(-1, self.hidden_dim)  # like flattening step\n",
    "        \n",
    "        # get final output \n",
    "        output = self.fc(r_out)\n",
    "        \n",
    "        return output, hidden\n"
   ]
  },
  {
   "cell_type": "markdown",
   "metadata": {},
   "source": [
    "### 4.3 Check the input and output dimensions\n",
    "\n",
    "As a check that your model is working as expected, test out how it responds to input data."
   ]
  },
  {
   "cell_type": "code",
   "execution_count": 4,
   "metadata": {},
   "outputs": [
    {
     "name": "stdout",
     "output_type": "stream",
     "text": [
      "Input size:  torch.Size([1, 20, 1])\n",
      "Output size:  torch.Size([20, 1])\n",
      "Hidden state size:  torch.Size([2, 1, 100])\n",
      "tensor([[[0.0000e+00],\n",
      "         [1.6459e-01],\n",
      "         [3.2470e-01],\n",
      "         [4.7595e-01],\n",
      "         [6.1421e-01],\n",
      "         [7.3572e-01],\n",
      "         [8.3717e-01],\n",
      "         [9.1577e-01],\n",
      "         [9.6940e-01],\n",
      "         [9.9658e-01],\n",
      "         [9.9658e-01],\n",
      "         [9.6940e-01],\n",
      "         [9.1577e-01],\n",
      "         [8.3717e-01],\n",
      "         [7.3572e-01],\n",
      "         [6.1421e-01],\n",
      "         [4.7595e-01],\n",
      "         [3.2470e-01],\n",
      "         [1.6459e-01],\n",
      "         [1.2246e-16]]])\n",
      "tensor([[ 0.0349],\n",
      "        [-0.0098],\n",
      "        [-0.0009],\n",
      "        [-0.0103],\n",
      "        [ 0.0069],\n",
      "        [ 0.0170],\n",
      "        [ 0.0262],\n",
      "        [ 0.0282],\n",
      "        [ 0.0332],\n",
      "        [ 0.0362],\n",
      "        [ 0.0381],\n",
      "        [ 0.0392],\n",
      "        [ 0.0396],\n",
      "        [ 0.0395],\n",
      "        [ 0.0388],\n",
      "        [ 0.0375],\n",
      "        [ 0.0357],\n",
      "        [ 0.0335],\n",
      "        [ 0.0308],\n",
      "        [ 0.0278]], grad_fn=<AddmmBackward>)\n",
      "tensor([[[ 4.8018e-03, -2.1286e-02,  7.7312e-02, -8.8870e-02, -1.1351e-02,\n",
      "           1.4724e-01, -2.9595e-02,  1.0373e-01,  5.9388e-02,  8.6362e-02,\n",
      "          -4.2731e-03, -7.6566e-02,  1.4254e-02,  4.2705e-02,  1.7052e-01,\n",
      "           3.4309e-02, -5.9003e-02, -5.8031e-02,  2.1617e-01, -1.3081e-01,\n",
      "          -1.3728e-01, -4.1430e-02, -7.3923e-02,  4.4072e-02,  7.6314e-03,\n",
      "          -6.4475e-02,  1.7598e-01,  1.0086e-02, -1.2526e-02,  4.4789e-02,\n",
      "           5.3041e-05, -7.0070e-02, -8.5517e-02, -6.4357e-02,  1.3006e-02,\n",
      "          -7.5382e-02,  1.0039e-01, -3.0938e-01, -1.8866e-02, -9.9339e-02,\n",
      "          -1.8644e-01, -4.3356e-03, -1.4288e-01,  1.2690e-01,  1.1788e-01,\n",
      "          -1.3354e-01,  2.5025e-02,  2.4152e-01, -1.4578e-01, -4.4544e-02,\n",
      "          -1.3329e-01, -1.7237e-02,  3.5970e-02,  5.8854e-02, -1.2378e-01,\n",
      "           8.8916e-02, -1.8139e-01,  5.9309e-02, -1.7872e-01, -9.5593e-02,\n",
      "           1.1843e-01,  9.5062e-02,  1.9012e-02, -5.7202e-03,  7.0357e-02,\n",
      "           1.9538e-01,  5.5998e-02,  1.2690e-01, -4.7588e-03,  5.1079e-02,\n",
      "           3.2037e-02,  1.1754e-02, -2.3666e-02, -6.1928e-02, -1.7429e-01,\n",
      "           5.1054e-03, -2.2642e-02,  3.1301e-01,  1.6486e-01, -1.5944e-01,\n",
      "           3.6876e-02, -1.0564e-01,  1.0720e-01, -8.2608e-02,  2.7072e-02,\n",
      "           2.4457e-02, -3.8821e-02,  1.3624e-01,  8.7786e-02,  1.3243e-01,\n",
      "           5.6380e-02,  1.7924e-01, -6.1747e-02,  1.4017e-01,  7.6433e-02,\n",
      "          -9.4334e-02, -2.0094e-01,  1.2736e-03, -2.4526e-01,  1.4480e-01]],\n",
      "\n",
      "        [[-8.0310e-02, -1.0303e-01,  1.6719e-01, -1.1287e-02,  1.3492e-02,\n",
      "           2.1057e-01, -7.2119e-02,  1.1914e-01,  1.2552e-01, -1.5544e-01,\n",
      "          -2.2189e-01,  1.9586e-01,  1.4999e-01, -4.3594e-02,  9.9706e-02,\n",
      "          -3.8178e-02, -1.3067e-01,  2.0797e-01,  5.5629e-03,  1.5448e-01,\n",
      "           6.9353e-02, -2.0670e-01,  1.6828e-01, -7.3121e-02, -6.1101e-02,\n",
      "          -2.2251e-02,  1.4749e-01, -1.4383e-01,  7.0889e-03,  1.5705e-01,\n",
      "          -1.0076e-01,  2.2715e-01,  1.0250e-01,  5.7788e-03, -1.6428e-01,\n",
      "          -1.2461e-01, -1.2813e-01,  1.4975e-01, -8.9805e-02, -1.1752e-02,\n",
      "           1.2720e-01,  6.3202e-02,  2.4194e-03, -4.9750e-02, -3.6942e-02,\n",
      "           4.2205e-02,  4.4908e-02, -8.2241e-02, -2.1886e-02,  5.9952e-02,\n",
      "           5.0566e-02, -8.1623e-02, -4.4030e-02, -6.6789e-02,  1.9862e-02,\n",
      "           1.4650e-01, -4.4732e-02,  6.7262e-02,  1.3064e-01,  4.0011e-02,\n",
      "          -5.2191e-02,  1.5340e-01,  4.3905e-02,  2.1206e-01,  1.5262e-02,\n",
      "          -9.1158e-02, -4.7572e-02, -5.3796e-02,  1.9665e-01, -3.1045e-02,\n",
      "           3.3824e-03,  2.0977e-01, -8.6691e-02, -1.0789e-01,  3.5336e-04,\n",
      "          -3.4288e-03,  2.6642e-02, -1.0742e-01,  1.3210e-01,  3.0866e-01,\n",
      "          -7.7388e-02,  1.2762e-01, -1.0348e-01,  7.3525e-03, -5.5699e-02,\n",
      "           1.9625e-01,  4.0538e-02,  2.0342e-01, -7.7430e-02,  7.4659e-02,\n",
      "           1.1474e-01,  1.9820e-02, -8.9160e-02, -4.6743e-02, -7.0583e-02,\n",
      "           2.9970e-02, -1.6497e-02,  2.0027e-01,  1.7523e-01,  9.8361e-02]]],\n",
      "       grad_fn=<StackBackward>)\n",
      "<generator object Module.parameters at 0x7f768b23c678>\n"
     ]
    }
   ],
   "source": [
    "# test that dimensions are as expected=\n",
    "test_rnn = RNN(input_size=1, output_size=1, hidden_dim=100, n_layers=2)\n",
    "\n",
    "# generate evenly spaced, test data pts\n",
    "time_steps = np.linspace(0, np.pi, seq_length)\n",
    "data = np.sin(time_steps)\n",
    "data.resize((seq_length, 1))\n",
    "\n",
    "test_input = torch.Tensor(data).unsqueeze(0) # give it a batch_size of 1 as first dimension\n",
    "print('Input size: ', test_input.size())\n",
    "\n",
    "# test out rnn sizes\n",
    "test_out, test_h = test_rnn(test_input, None)\n",
    "print('Output size: ', test_out.size())\n",
    "print('Hidden state size: ', test_h.size())\n",
    "print(test_input)\n",
    "print(test_out)\n",
    "print(test_h)\n",
    "print(test_rnn.parameters())"
   ]
  },
  {
   "cell_type": "markdown",
   "metadata": {},
   "source": [
    "---\n",
    "### 4.4 Training the RNN\n",
    "\n",
    "Next, we'll instantiate an RNN with some specified hyperparameters. Then train it over a series of steps, and see how it performs."
   ]
  },
  {
   "cell_type": "code",
   "execution_count": 5,
   "metadata": {},
   "outputs": [
    {
     "name": "stdout",
     "output_type": "stream",
     "text": [
      "RNN(\n",
      "  (rnn): RNN(1, 32, batch_first=True)\n",
      "  (fc): Linear(in_features=32, out_features=1, bias=True)\n",
      ")\n"
     ]
    }
   ],
   "source": [
    "# decide on hyperparameters\n",
    "input_size=1 \n",
    "output_size=1\n",
    "hidden_dim=32 # The number of features in the hidden state h\n",
    "n_layers=1\n",
    "\n",
    "# instantiate an RNN\n",
    "rnn = RNN(input_size, output_size, hidden_dim, n_layers)\n",
    "print(rnn)"
   ]
  },
  {
   "cell_type": "markdown",
   "metadata": {},
   "source": [
    "### 4.5 Loss and Optimization\n",
    "\n",
    "This is a regression problem: can we train an RNN to accurately predict the next data point, given a current data point?\n",
    "\n",
    ">* The data points are coordinate values, so to compare a predicted and ground_truth point, we'll use a regression loss: the mean squared error.\n",
    "* It's typical to use an Adam optimizer for recurrent models."
   ]
  },
  {
   "cell_type": "code",
   "execution_count": 6,
   "metadata": {},
   "outputs": [],
   "source": [
    "# MSE loss and Adam optimizer with a learning rate of 0.01\n",
    "criterion = nn.MSELoss()\n",
    "optimizer = torch.optim.Adam(rnn.parameters(), lr=0.01) "
   ]
  },
  {
   "cell_type": "markdown",
   "metadata": {},
   "source": [
    "### 4.6 Defining the training function\n",
    "\n",
    "This function takes in an rnn, a number of steps to train for, and returns a trained rnn. This function is also responsible for displaying the loss and the predictions, every so often.\n",
    "\n",
    "#### Hidden State\n",
    "\n",
    "Pay close attention to the hidden state, here:\n",
    "* Before looping over a batch of training data, the hidden state is initialized\n",
    "* After a new hidden state is generated by the rnn, we get the latest hidden state, and use that as input to the rnn for the following steps"
   ]
  },
  {
   "cell_type": "code",
   "execution_count": 7,
   "metadata": {},
   "outputs": [],
   "source": [
    "# train the RNN\n",
    "def train(rnn, n_steps, print_every):\n",
    "    \n",
    "    # initialize the hidden state\n",
    "    hidden = None      \n",
    "    \n",
    "    for batch_i, step in enumerate(range(n_steps)):\n",
    "        # defining the training data \n",
    "        time_steps = np.linspace(step * np.pi, (step+1)*np.pi, seq_length + 1)\n",
    "        data = np.sin(time_steps)\n",
    "        data.resize((seq_length + 1, 1)) # input_size=1\n",
    "\n",
    "        x = data[:-1]\n",
    "        y = data[1:]\n",
    "        \n",
    "        # convert data into Tensors\n",
    "        x_tensor = torch.Tensor(x).unsqueeze(0) # unsqueeze gives a 1, batch_size dimension\n",
    "        y_tensor = torch.Tensor(y)\n",
    "\n",
    "        # outputs from the rnn\n",
    "        prediction, hidden = rnn(x_tensor, hidden)\n",
    "\n",
    "        ## Representing Memory ##\n",
    "        # make a new variable for hidden and detach the hidden state from its history\n",
    "        # this way, we don't backpropagate through the entire history\n",
    "        hidden = hidden.data\n",
    "\n",
    "        # calculate the loss\n",
    "        loss = criterion(prediction, y_tensor)\n",
    "        # zero gradients\n",
    "        optimizer.zero_grad()\n",
    "        # perform backprop and update weights\n",
    "        loss.backward()\n",
    "        optimizer.step()\n",
    "\n",
    "        # display loss and predictions\n",
    "        if batch_i%print_every == 0:        \n",
    "            print('Loss: ', loss.item())\n",
    "            plt.plot(time_steps[1:], x, 'r.') # input\n",
    "            plt.plot(time_steps[1:], prediction.data.numpy().flatten(), 'b.') # predictions\n",
    "            plt.show()\n",
    "    \n",
    "    return rnn\n"
   ]
  },
  {
   "cell_type": "code",
   "execution_count": 10,
   "metadata": {},
   "outputs": [
    {
     "name": "stdout",
     "output_type": "stream",
     "text": [
      "Loss:  0.0011607545893639326\n"
     ]
    },
    {
     "data": {
      "image/png": "[encoded data removed]",
      "text/plain": [
       "<Figure size 432x288 with 1 Axes>"
      ]
     },
     "metadata": {
      "needs_background": "light"
     },
     "output_type": "display_data"
    },
    {
     "name": "stdout",
     "output_type": "stream",
     "text": [
      "Loss:  0.00023146213789004833\n"
     ]
    },
    {
     "data": {
      "image/png": "[encoded data removed]",
      "text/plain": [
       "<Figure size 432x288 with 1 Axes>"
      ]
     },
     "metadata": {
      "needs_background": "light"
     },
     "output_type": "display_data"
    },
    {
     "name": "stdout",
     "output_type": "stream",
     "text": [
      "Loss:  0.0003372690116520971\n"
     ]
    },
    {
     "data": {
      "image/png": "[encoded data removed]",
      "text/plain": [
       "<Figure size 432x288 with 1 Axes>"
      ]
     },
     "metadata": {
      "needs_background": "light"
     },
     "output_type": "display_data"
    },
    {
     "name": "stdout",
     "output_type": "stream",
     "text": [
      "Loss:  0.00016954541206359863\n"
     ]
    },
    {
     "data": {
      "image/png": "[encoded data removed]",
      "text/plain": [
       "<Figure size 432x288 with 1 Axes>"
      ]
     },
     "metadata": {
      "needs_background": "light"
     },
     "output_type": "display_data"
    },
    {
     "name": "stdout",
     "output_type": "stream",
     "text": [
      "Loss:  4.499617716646753e-05\n"
     ]
    },
    {
     "data": {
      "image/png": "[encoded data removed]",
      "text/plain": [
       "<Figure size 432x288 with 1 Axes>"
      ]
     },
     "metadata": {
      "needs_background": "light"
     },
     "output_type": "display_data"
    },
    {
     "name": "stdout",
     "output_type": "stream",
     "text": [
      "Loss:  2.8635153284994885e-05\n"
     ]
    },
    {
     "data": {
      "image/png": "[encoded data removed]",
      "text/plain": [
       "<Figure size 432x288 with 1 Axes>"
      ]
     },
     "metadata": {
      "needs_background": "light"
     },
     "output_type": "display_data"
    },
    {
     "name": "stdout",
     "output_type": "stream",
     "text": [
      "Loss:  2.2120239009382203e-05\n"
     ]
    },
    {
     "data": {
      "image/png": "[encoded data removed]",
      "text/plain": [
       "<Figure size 432x288 with 1 Axes>"
      ]
     },
     "metadata": {
      "needs_background": "light"
     },
     "output_type": "display_data"
    },
    {
     "name": "stdout",
     "output_type": "stream",
     "text": [
      "Loss:  2.161537304345984e-05\n"
     ]
    },
    {
     "data": {
      "image/png": "[encoded data removed]",
      "text/plain": [
       "<Figure size 432x288 with 1 Axes>"
      ]
     },
     "metadata": {
      "needs_background": "light"
     },
     "output_type": "display_data"
    }
   ],
   "source": [
    "# train the rnn and monitor results\n",
    "n_steps = 120\n",
    "print_every = 15\n",
    "\n",
    "trained_rnn = train(rnn, n_steps, print_every)"
   ]
  },
  {
   "cell_type": "markdown",
   "metadata": {},
   "source": [
    "### Time-Series Prediction\n",
    "\n",
    "Time-series prediction can be applied to many tasks. Think about weather forecasting or predicting the ebb and flow of stock market prices. You can even try to generate predictions much further in the future than just one time step!"
   ]
  }
 ],
 "metadata": {
  "kernelspec": {
   "display_name": "Python py3.5",
   "language": "python",
   "name": "py3.5"
  },
  "language_info": {
   "codemirror_mode": {
    "name": "ipython",
    "version": 3
   },
   "file_extension": ".py",
   "mimetype": "text/x-python",
   "name": "python",
   "nbconvert_exporter": "python",
   "pygments_lexer": "ipython3",
   "version": "3.5.6"
  }
 },
 "nbformat": 4,
 "nbformat_minor": 2
}
