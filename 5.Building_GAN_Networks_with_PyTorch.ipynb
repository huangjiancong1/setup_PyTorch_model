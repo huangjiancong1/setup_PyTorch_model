{
 "cells": [
  {
   "cell_type": "markdown",
   "metadata": {},
   "source": [
    "## 5.Building GAN Networks with PyTorch\n",
    "\n",
    "In this notebook, we'll be building a generative adversarial network (GAN) trained on the MNIST dataset. From this, we'll be able to generate new handwritten digits!\n",
    "\n",
    "GANs were [first reported on](https://arxiv.org/abs/1406.2661) in 2014 from Ian Goodfellow and others in Yoshua Bengio's lab. Since then, GANs have exploded in popularity. Here are a few examples to check out:\n",
    "\n",
    "* [Pix2Pix](https://affinelayer.com/pixsrv/) \n",
    "* [CycleGAN & Pix2Pix in PyTorch, Jun-Yan Zhu](https://github.com/junyanz/pytorch-CycleGAN-and-pix2pix)\n",
    "* [A list of generative models](https://github.com/wiseodd/generative-models)\n",
    "\n",
    "The idea behind GANs is that you have two networks, a generator $G$ and a discriminator $D$, competing against each other. The generator makes \"fake\" data to pass to the discriminator. The discriminator also sees real training data and predicts if the data it's received is real or fake. \n",
    "> * The generator is trained to fool the discriminator, it wants to output data that looks _as close as possible_ to real, training data. \n",
    "* The discriminator is a classifier that is trained to figure out which data is real and which is fake. \n",
    "\n",
    "What ends up happening is that the generator learns to make data that is indistinguishable from real data to the discriminator.\n",
    "\n",
    "<img src='assets/gan_pipeline.png' width=70% />\n",
    "\n",
    "The general structure of a GAN is shown in the diagram above, using MNIST images as data. The latent sample is a random vector that the generator uses to construct its fake images. This is often called a **latent vector** and that vector space is called **latent space**. As the generator trains, it figures out how to map latent vectors to recognizable images that can fool the discriminator.\n",
    "\n",
    "If you're interested in generating only new images, you can throw out the discriminator after training. In this notebook, I'll show you how to define and train these adversarial networks in PyTorch and generate new images!"
   ]
  },
  {
   "cell_type": "code",
   "execution_count": 1,
   "metadata": {},
   "outputs": [],
   "source": [
    "%matplotlib inline\n",
    "\n",
    "import numpy as np\n",
    "import torch\n",
    "import matplotlib.pyplot as plt"
   ]
  },
  {
   "cell_type": "code",
   "execution_count": 2,
   "metadata": {},
   "outputs": [
    {
     "name": "stdout",
     "output_type": "stream",
     "text": [
      "Downloading http://yann.lecun.com/exdb/mnist/train-images-idx3-ubyte.gz to data/MNIST/raw/train-images-idx3-ubyte.gz\n"
     ]
    },
    {
     "name": "stderr",
     "output_type": "stream",
     "text": [
      "100.1%"
     ]
    },
    {
     "name": "stdout",
     "output_type": "stream",
     "text": [
      "Extracting data/MNIST/raw/train-images-idx3-ubyte.gz\n",
      "Downloading http://yann.lecun.com/exdb/mnist/train-labels-idx1-ubyte.gz to data/MNIST/raw/train-labels-idx1-ubyte.gz\n"
     ]
    },
    {
     "name": "stderr",
     "output_type": "stream",
     "text": [
      "113.5%"
     ]
    },
    {
     "name": "stdout",
     "output_type": "stream",
     "text": [
      "Extracting data/MNIST/raw/train-labels-idx1-ubyte.gz\n",
      "Downloading http://yann.lecun.com/exdb/mnist/t10k-images-idx3-ubyte.gz to data/MNIST/raw/t10k-images-idx3-ubyte.gz\n"
     ]
    },
    {
     "name": "stderr",
     "output_type": "stream",
     "text": [
      "100.4%"
     ]
    },
    {
     "name": "stdout",
     "output_type": "stream",
     "text": [
      "Extracting data/MNIST/raw/t10k-images-idx3-ubyte.gz\n",
      "Downloading http://yann.lecun.com/exdb/mnist/t10k-labels-idx1-ubyte.gz to data/MNIST/raw/t10k-labels-idx1-ubyte.gz\n"
     ]
    },
    {
     "name": "stderr",
     "output_type": "stream",
     "text": [
      "180.4%"
     ]
    },
    {
     "name": "stdout",
     "output_type": "stream",
     "text": [
      "Extracting data/MNIST/raw/t10k-labels-idx1-ubyte.gz\n",
      "Processing...\n",
      "Done!\n"
     ]
    }
   ],
   "source": [
    "from torchvision import datasets\n",
    "import torchvision.transforms as transforms\n",
    "\n",
    "# number of subprocesses to use for data loading\n",
    "num_workers = 0\n",
    "# how many samples per batch to load\n",
    "batch_size = 64\n",
    "\n",
    "# convert data to torch.FloatTensor\n",
    "transform = transforms.ToTensor()\n",
    "\n",
    "# get the training datasets\n",
    "train_data = datasets.MNIST(root='data', train=True,\n",
    "                                   download=True, transform=transform)\n",
    "\n",
    "# prepare data loader\n",
    "train_loader = torch.utils.data.DataLoader(train_data, batch_size=batch_size,\n",
    "                                           num_workers=num_workers)"
   ]
  },
  {
   "cell_type": "markdown",
   "metadata": {},
   "source": [
    "### 5.1 Visualize the data"
   ]
  },
  {
   "cell_type": "code",
   "execution_count": 3,
   "metadata": {},
   "outputs": [
    {
     "data": {
      "text/plain": [
       "<matplotlib.image.AxesImage at 0x7fb0fee1c128>"
      ]
     },
     "execution_count": 3,
     "metadata": {},
     "output_type": "execute_result"
    },
    {
     "data": {
      "image/png": "[encoded data removed]",
      "text/plain": [
       "<Figure size 216x216 with 1 Axes>"
      ]
     },
     "metadata": {
      "needs_background": "light"
     },
     "output_type": "display_data"
    }
   ],
   "source": [
    "# obtain one batch of training images\n",
    "dataiter = iter(train_loader)\n",
    "images, labels = dataiter.next()\n",
    "images = images.numpy()\n",
    "\n",
    "# get one image from the batch\n",
    "img = np.squeeze(images[0])\n",
    "\n",
    "fig = plt.figure(figsize = (3,3)) \n",
    "ax = fig.add_subplot(111)\n",
    "ax.imshow(img, cmap='gray')"
   ]
  },
  {
   "cell_type": "markdown",
   "metadata": {},
   "source": [
    "---\n",
    "### 5.2 Define the Model\n",
    "\n",
    "A GAN is comprised of two adversarial networks, a discriminator and a generator."
   ]
  },
  {
   "cell_type": "markdown",
   "metadata": {},
   "source": [
    "### 5.2.1 Discriminator\n",
    "\n",
    "The discriminator network is going to be a pretty typical linear classifier. To make this network a universal function approximator, we'll need at least one hidden layer, and these hidden layers should have one key attribute:\n",
    "> All hidden layers will have a [Leaky ReLu](https://pytorch.org/docs/stable/nn.html#torch.nn.LeakyReLU) activation function applied to their outputs.\n",
    "\n",
    "<img src='assets/gan_network.png' width=70% />\n",
    "\n",
    "#### Leaky ReLu\n",
    "\n",
    "We should use a leaky ReLU to allow gradients to flow backwards through the layer unimpeded. A leaky ReLU is like a normal ReLU, except that there is a small non-zero output for negative input values.\n",
    "\n",
    "<img src='assets/leaky_relu.png' width=40% />\n",
    "\n",
    "#### Sigmoid Output\n",
    "\n",
    "We'll also take the approach of using a more numerically stable loss function on the outputs. Recall that we want the discriminator to output a value 0-1 indicating whether an image is _real or fake_. \n",
    "> We will ultimately use [BCEWithLogitsLoss](https://pytorch.org/docs/stable/nn.html#bcewithlogitsloss), which combines a `sigmoid` activation function **and** and binary cross entropy loss in one function. \n",
    "\n",
    "So, our final output layer should not have any activation function applied to it."
   ]
  },
  {
   "cell_type": "code",
   "execution_count": 4,
   "metadata": {},
   "outputs": [],
   "source": [
    "import torch.nn as nn\n",
    "import torch.nn.functional as F\n",
    "\n",
    "class Discriminator(nn.Module):\n",
    "\n",
    "    def __init__(self, input_size, hidden_dim, output_size):\n",
    "        super(Discriminator, self).__init__()\n",
    "        \n",
    "        # define hidden linear layers\n",
    "        self.fc1 = nn.Linear(input_size, hidden_dim*4)\n",
    "        self.fc2 = nn.Linear(hidden_dim*4, hidden_dim*2)\n",
    "        self.fc3 = nn.Linear(hidden_dim*2, hidden_dim)\n",
    "        \n",
    "        # final fully-connected layer\n",
    "        self.fc4 = nn.Linear(hidden_dim, output_size)\n",
    "        \n",
    "        # dropout layer \n",
    "        self.dropout = nn.Dropout(0.3)\n",
    "        \n",
    "        \n",
    "    def forward(self, x):\n",
    "        # flatten image\n",
    "        x = x.view(-1, 28*28)\n",
    "        # all hidden layers\n",
    "        x = F.leaky_relu(self.fc1(x), 0.2) # (input, negative_slope=0.2)\n",
    "        x = self.dropout(x)\n",
    "        x = F.leaky_relu(self.fc2(x), 0.2)\n",
    "        x = self.dropout(x)\n",
    "        x = F.leaky_relu(self.fc3(x), 0.2)\n",
    "        x = self.dropout(x)\n",
    "        # final layer\n",
    "        out = self.fc4(x)\n",
    "\n",
    "        return out\n"
   ]
  },
  {
   "cell_type": "markdown",
   "metadata": {},
   "source": [
    "### 5.2.2 Generator\n",
    "\n",
    "The generator network will be almost exactly the same as the discriminator network, except that we're applying a [tanh activation function](https://pytorch.org/docs/stable/nn.html#tanh) to our output layer.\n",
    "\n",
    "#### tanh Output\n",
    "The generator has been found to perform the best with $tanh$ for the generator output, which scales the output to be between -1 and 1, instead of 0 and 1. \n",
    "\n",
    "<img src='assets/tanh_fn.png' width=40% />\n",
    "\n",
    "Recall that we also want these outputs to be comparable to the *real* input pixel values, which are read in as normalized values between 0 and 1. \n",
    "> So, we'll also have to **scale our real input images to have pixel values between -1 and 1** when we train the discriminator. \n",
    "\n",
    "I'll do this in the training loop, later on."
   ]
  },
  {
   "cell_type": "code",
   "execution_count": 5,
   "metadata": {},
   "outputs": [],
   "source": [
    "class Generator(nn.Module):\n",
    "\n",
    "    def __init__(self, input_size, hidden_dim, output_size):\n",
    "        super(Generator, self).__init__()\n",
    "        \n",
    "        # define hidden linear layers\n",
    "        self.fc1 = nn.Linear(input_size, hidden_dim)\n",
    "        self.fc2 = nn.Linear(hidden_dim, hidden_dim*2)\n",
    "        self.fc3 = nn.Linear(hidden_dim*2, hidden_dim*4)\n",
    "        \n",
    "        # final fully-connected layer\n",
    "        self.fc4 = nn.Linear(hidden_dim*4, output_size)\n",
    "        \n",
    "        # dropout layer \n",
    "        self.dropout = nn.Dropout(0.3)\n",
    "\n",
    "    def forward(self, x):\n",
    "        # all hidden layers\n",
    "        x = F.leaky_relu(self.fc1(x), 0.2) # (input, negative_slope=0.2)\n",
    "        x = self.dropout(x)\n",
    "        x = F.leaky_relu(self.fc2(x), 0.2)\n",
    "        x = self.dropout(x)\n",
    "        x = F.leaky_relu(self.fc3(x), 0.2)\n",
    "        x = self.dropout(x)\n",
    "        # final layer with tanh applied\n",
    "        out = F.tanh(self.fc4(x))\n",
    "\n",
    "        return out"
   ]
  },
  {
   "cell_type": "markdown",
   "metadata": {},
   "source": [
    "### 5.3 Model hyperparameters"
   ]
  },
  {
   "cell_type": "code",
   "execution_count": 6,
   "metadata": {},
   "outputs": [],
   "source": [
    "# Discriminator hyperparams\n",
    "\n",
    "# Size of input image to discriminator (28*28)\n",
    "input_size = 784\n",
    "# Size of discriminator output (real or fake)\n",
    "d_output_size = 1\n",
    "# Size of last hidden layer in the discriminator\n",
    "d_hidden_size = 32\n",
    "\n",
    "# Generator hyperparams\n",
    "\n",
    "# Size of latent vector to give to generator\n",
    "z_size = 100\n",
    "# Size of discriminator output (generated image)\n",
    "g_output_size = 784\n",
    "# Size of first hidden layer in the generator\n",
    "g_hidden_size = 32"
   ]
  },
  {
   "cell_type": "markdown",
   "metadata": {},
   "source": [
    "### 5.4 Build complete network\n",
    "\n",
    "Now we're instantiating the discriminator and generator from the classes defined above. Make sure you've passed in the correct input arguments."
   ]
  },
  {
   "cell_type": "code",
   "execution_count": 7,
   "metadata": {},
   "outputs": [
    {
     "name": "stdout",
     "output_type": "stream",
     "text": [
      "Discriminator(\n",
      "  (fc1): Linear(in_features=784, out_features=128, bias=True)\n",
      "  (fc2): Linear(in_features=128, out_features=64, bias=True)\n",
      "  (fc3): Linear(in_features=64, out_features=32, bias=True)\n",
      "  (fc4): Linear(in_features=32, out_features=1, bias=True)\n",
      "  (dropout): Dropout(p=0.3)\n",
      ")\n",
      "\n",
      "Generator(\n",
      "  (fc1): Linear(in_features=100, out_features=32, bias=True)\n",
      "  (fc2): Linear(in_features=32, out_features=64, bias=True)\n",
      "  (fc3): Linear(in_features=64, out_features=128, bias=True)\n",
      "  (fc4): Linear(in_features=128, out_features=784, bias=True)\n",
      "  (dropout): Dropout(p=0.3)\n",
      ")\n"
     ]
    }
   ],
   "source": [
    "# instantiate discriminator and generator\n",
    "D = Discriminator(input_size, d_hidden_size, d_output_size)\n",
    "G = Generator(z_size, g_hidden_size, g_output_size)\n",
    "\n",
    "# check that they are as you expect\n",
    "print(D)\n",
    "print()\n",
    "print(G)"
   ]
  },
  {
   "cell_type": "markdown",
   "metadata": {},
   "source": [
    "---\n",
    "### 5.5 Discriminator and Generator Losses\n",
    "\n",
    "Now we need to calculate the losses. \n",
    "\n",
    "#### Discriminator Losses\n",
    "\n",
    "> * For the discriminator, the total loss is the sum of the losses for real and fake images, `d_loss = d_real_loss + d_fake_loss`. \n",
    "* Remember that we want the discriminator to output 1 for real images and 0 for fake images, so we need to set up the losses to reflect that.\n",
    "\n",
    "<img src='assets/gan_pipeline.png' width=70% />\n",
    "\n",
    "The losses will by binary cross entropy loss with logits, which we can get with [BCEWithLogitsLoss](https://pytorch.org/docs/stable/nn.html#bcewithlogitsloss). This combines a `sigmoid` activation function **and** and binary cross entropy loss in one function.\n",
    "\n",
    "For the real images, we want `D(real_images) = 1`. That is, we want the discriminator to classify the the real images with a label = 1, indicating that these are real. To help the discriminator generalize better, the labels are **reduced a bit from 1.0 to 0.9**. For this, we'll use the parameter `smooth`; if True, then we should smooth our labels. In PyTorch, this looks like `labels = torch.ones(size) * 0.9`\n",
    "\n",
    "The discriminator loss for the fake data is similar. We want `D(fake_images) = 0`, where the fake images are the _generator output_, `fake_images = G(z)`. \n",
    "\n",
    "#### Generator Loss\n",
    "\n",
    "The generator loss will look similar only with flipped labels. The generator's goal is to get `D(fake_images) = 1`. In this case, the labels are **flipped** to represent that the generator is trying to fool the discriminator into thinking that the images it generates (fakes) are real!"
   ]
  },
  {
   "cell_type": "code",
   "execution_count": 8,
   "metadata": {},
   "outputs": [],
   "source": [
    "# Calculate losses\n",
    "def real_loss(D_out, smooth=False):\n",
    "    batch_size = D_out.size(0)\n",
    "    # label smoothing\n",
    "    if smooth:\n",
    "        # smooth, real labels = 0.9\n",
    "        labels = torch.ones(batch_size)*0.9\n",
    "    else:\n",
    "        labels = torch.ones(batch_size) # real labels = 1\n",
    "        \n",
    "    # numerically stable loss\n",
    "    criterion = nn.BCEWithLogitsLoss()\n",
    "    # calculate loss\n",
    "    loss = criterion(D_out.squeeze(), labels)\n",
    "    return loss\n",
    "\n",
    "def fake_loss(D_out):\n",
    "    batch_size = D_out.size(0)\n",
    "    labels = torch.zeros(batch_size) # fake labels = 0\n",
    "    criterion = nn.BCEWithLogitsLoss()\n",
    "    # calculate loss\n",
    "    loss = criterion(D_out.squeeze(), labels)\n",
    "    return loss"
   ]
  },
  {
   "cell_type": "markdown",
   "metadata": {},
   "source": [
    "### 5.6 Optimizers\n",
    "\n",
    "We want to update the generator and discriminator variables separately. So, we'll define two separate Adam optimizers."
   ]
  },
  {
   "cell_type": "code",
   "execution_count": 9,
   "metadata": {
    "scrolled": true
   },
   "outputs": [],
   "source": [
    "import torch.optim as optim\n",
    "\n",
    "# Optimizers\n",
    "lr = 0.002\n",
    "\n",
    "# Create optimizers for the discriminator and generator\n",
    "d_optimizer = optim.Adam(D.parameters(), lr)\n",
    "g_optimizer = optim.Adam(G.parameters(), lr)"
   ]
  },
  {
   "cell_type": "markdown",
   "metadata": {},
   "source": [
    "---\n",
    "### 5.7 Training\n",
    "\n",
    "Training will involve alternating between training the discriminator and the generator. We'll use our functions `real_loss` and `fake_loss` to help us calculate the discriminator losses in all of the following cases.\n",
    "\n",
    "#### Discriminator training\n",
    "1. Compute the discriminator loss on real, training images        \n",
    "2. Generate fake images\n",
    "3. Compute the discriminator loss on fake, generated images     \n",
    "4. Add up real and fake loss\n",
    "5. Perform backpropagation + an optimization step to update the discriminator's weights\n",
    "\n",
    "#### Generator training\n",
    "1. Generate fake images\n",
    "2. Compute the discriminator loss on fake images, using **flipped** labels!\n",
    "3. Perform backpropagation + an optimization step to update the generator's weights\n",
    "\n",
    "##### Saving Samples\n",
    "\n",
    "As we train, we'll also print out some loss statistics and save some generated \"fake\" samples."
   ]
  },
  {
   "cell_type": "code",
   "execution_count": 10,
   "metadata": {
    "scrolled": true
   },
   "outputs": [
    {
     "name": "stdout",
     "output_type": "stream",
     "text": [
      "Epoch [    1/  100] | d_loss: 1.3883 | g_loss: 0.6860\n"
     ]
    },
    {
     "name": "stderr",
     "output_type": "stream",
     "text": [
      "/home/jim/anaconda2/envs/py3.5/lib/python3.5/site-packages/torch/nn/functional.py:1374: UserWarning: nn.functional.tanh is deprecated. Use torch.tanh instead.\n",
      "  warnings.warn(\"nn.functional.tanh is deprecated. Use torch.tanh instead.\")\n"
     ]
    },
    {
     "name": "stdout",
     "output_type": "stream",
     "text": [
      "Epoch [    1/  100] | d_loss: 1.6888 | g_loss: 0.5145\n",
      "Epoch [    1/  100] | d_loss: 1.1014 | g_loss: 2.1863\n",
      "Epoch [    2/  100] | d_loss: 1.2932 | g_loss: 0.9125\n",
      "Epoch [    2/  100] | d_loss: 1.0593 | g_loss: 1.2472\n",
      "Epoch [    2/  100] | d_loss: 1.1029 | g_loss: 1.9021\n",
      "Epoch [    3/  100] | d_loss: 0.9418 | g_loss: 5.3967\n",
      "Epoch [    3/  100] | d_loss: 1.2888 | g_loss: 1.3674\n",
      "Epoch [    3/  100] | d_loss: 1.1174 | g_loss: 1.2970\n",
      "Epoch [    4/  100] | d_loss: 1.1853 | g_loss: 1.0111\n",
      "Epoch [    4/  100] | d_loss: 1.0987 | g_loss: 1.3719\n",
      "Epoch [    4/  100] | d_loss: 1.1237 | g_loss: 1.0653\n",
      "Epoch [    5/  100] | d_loss: 1.1652 | g_loss: 1.3416\n",
      "Epoch [    5/  100] | d_loss: 1.2775 | g_loss: 1.1395\n",
      "Epoch [    5/  100] | d_loss: 1.0723 | g_loss: 1.1198\n",
      "Epoch [    6/  100] | d_loss: 0.9532 | g_loss: 2.5980\n",
      "Epoch [    6/  100] | d_loss: 1.2382 | g_loss: 1.0091\n",
      "Epoch [    6/  100] | d_loss: 1.0980 | g_loss: 1.1933\n",
      "Epoch [    7/  100] | d_loss: 1.2756 | g_loss: 1.3316\n",
      "Epoch [    7/  100] | d_loss: 1.2238 | g_loss: 1.1874\n",
      "Epoch [    7/  100] | d_loss: 1.6071 | g_loss: 1.1846\n",
      "Epoch [    8/  100] | d_loss: 1.3313 | g_loss: 1.3326\n",
      "Epoch [    8/  100] | d_loss: 1.3056 | g_loss: 1.0783\n",
      "Epoch [    8/  100] | d_loss: 1.1955 | g_loss: 1.6081\n",
      "Epoch [    9/  100] | d_loss: 1.3250 | g_loss: 1.1748\n",
      "Epoch [    9/  100] | d_loss: 1.1909 | g_loss: 1.5395\n",
      "Epoch [    9/  100] | d_loss: 1.3739 | g_loss: 0.8170\n",
      "Epoch [   10/  100] | d_loss: 1.2995 | g_loss: 1.1238\n",
      "Epoch [   10/  100] | d_loss: 1.2831 | g_loss: 1.7060\n",
      "Epoch [   10/  100] | d_loss: 1.4236 | g_loss: 0.7108\n",
      "Epoch [   11/  100] | d_loss: 1.2060 | g_loss: 1.1766\n",
      "Epoch [   11/  100] | d_loss: 1.2747 | g_loss: 1.0274\n",
      "Epoch [   11/  100] | d_loss: 1.2466 | g_loss: 1.0412\n",
      "Epoch [   12/  100] | d_loss: 1.3454 | g_loss: 1.0032\n",
      "Epoch [   12/  100] | d_loss: 1.1307 | g_loss: 1.2088\n",
      "Epoch [   12/  100] | d_loss: 1.2631 | g_loss: 1.0482\n",
      "Epoch [   13/  100] | d_loss: 1.2621 | g_loss: 0.9314\n",
      "Epoch [   13/  100] | d_loss: 1.1722 | g_loss: 1.0566\n",
      "Epoch [   13/  100] | d_loss: 1.3296 | g_loss: 0.9614\n",
      "Epoch [   14/  100] | d_loss: 1.3820 | g_loss: 0.8727\n",
      "Epoch [   14/  100] | d_loss: 1.2951 | g_loss: 1.4797\n",
      "Epoch [   14/  100] | d_loss: 1.4016 | g_loss: 0.8694\n",
      "Epoch [   15/  100] | d_loss: 1.2383 | g_loss: 1.2640\n",
      "Epoch [   15/  100] | d_loss: 1.2025 | g_loss: 1.1147\n",
      "Epoch [   15/  100] | d_loss: 1.3469 | g_loss: 0.9622\n",
      "Epoch [   16/  100] | d_loss: 1.2463 | g_loss: 1.0120\n",
      "Epoch [   16/  100] | d_loss: 1.3012 | g_loss: 0.9318\n",
      "Epoch [   16/  100] | d_loss: 1.2340 | g_loss: 1.7958\n",
      "Epoch [   17/  100] | d_loss: 1.2185 | g_loss: 1.1121\n",
      "Epoch [   17/  100] | d_loss: 1.2839 | g_loss: 1.0443\n",
      "Epoch [   17/  100] | d_loss: 1.2188 | g_loss: 1.0168\n",
      "Epoch [   18/  100] | d_loss: 1.2918 | g_loss: 0.8298\n",
      "Epoch [   18/  100] | d_loss: 1.2158 | g_loss: 1.0207\n",
      "Epoch [   18/  100] | d_loss: 1.3426 | g_loss: 0.8913\n",
      "Epoch [   19/  100] | d_loss: 1.3046 | g_loss: 0.9501\n",
      "Epoch [   19/  100] | d_loss: 1.2973 | g_loss: 0.9310\n",
      "Epoch [   19/  100] | d_loss: 1.3333 | g_loss: 1.0769\n",
      "Epoch [   20/  100] | d_loss: 1.3489 | g_loss: 1.1301\n",
      "Epoch [   20/  100] | d_loss: 1.3423 | g_loss: 0.8740\n",
      "Epoch [   20/  100] | d_loss: 1.3370 | g_loss: 0.8907\n",
      "Epoch [   21/  100] | d_loss: 1.2945 | g_loss: 0.9127\n",
      "Epoch [   21/  100] | d_loss: 1.2565 | g_loss: 0.8741\n",
      "Epoch [   21/  100] | d_loss: 1.3737 | g_loss: 0.8251\n",
      "Epoch [   22/  100] | d_loss: 1.3738 | g_loss: 0.8576\n",
      "Epoch [   22/  100] | d_loss: 1.2885 | g_loss: 1.0718\n",
      "Epoch [   22/  100] | d_loss: 1.2624 | g_loss: 1.1441\n",
      "Epoch [   23/  100] | d_loss: 1.2157 | g_loss: 0.8477\n",
      "Epoch [   23/  100] | d_loss: 1.3794 | g_loss: 1.0733\n",
      "Epoch [   23/  100] | d_loss: 1.2934 | g_loss: 1.0448\n",
      "Epoch [   24/  100] | d_loss: 1.2833 | g_loss: 0.8925\n",
      "Epoch [   24/  100] | d_loss: 1.2432 | g_loss: 0.8634\n",
      "Epoch [   24/  100] | d_loss: 1.2458 | g_loss: 0.9750\n",
      "Epoch [   25/  100] | d_loss: 1.3359 | g_loss: 0.9246\n",
      "Epoch [   25/  100] | d_loss: 1.3532 | g_loss: 1.2533\n",
      "Epoch [   25/  100] | d_loss: 1.3228 | g_loss: 1.0904\n",
      "Epoch [   26/  100] | d_loss: 1.3422 | g_loss: 0.9543\n",
      "Epoch [   26/  100] | d_loss: 1.3033 | g_loss: 0.9710\n",
      "Epoch [   26/  100] | d_loss: 1.2323 | g_loss: 1.0039\n",
      "Epoch [   27/  100] | d_loss: 1.1958 | g_loss: 1.2351\n",
      "Epoch [   27/  100] | d_loss: 1.3176 | g_loss: 1.0466\n",
      "Epoch [   27/  100] | d_loss: 1.3296 | g_loss: 0.8380\n",
      "Epoch [   28/  100] | d_loss: 1.3552 | g_loss: 1.4322\n",
      "Epoch [   28/  100] | d_loss: 1.2440 | g_loss: 0.9587\n",
      "Epoch [   28/  100] | d_loss: 1.2666 | g_loss: 1.1530\n",
      "Epoch [   29/  100] | d_loss: 1.3117 | g_loss: 0.9831\n",
      "Epoch [   29/  100] | d_loss: 1.1896 | g_loss: 1.3082\n",
      "Epoch [   29/  100] | d_loss: 1.3557 | g_loss: 1.0264\n",
      "Epoch [   30/  100] | d_loss: 1.2805 | g_loss: 0.8657\n",
      "Epoch [   30/  100] | d_loss: 1.3185 | g_loss: 0.8573\n",
      "Epoch [   30/  100] | d_loss: 1.4018 | g_loss: 1.1331\n",
      "Epoch [   31/  100] | d_loss: 1.3392 | g_loss: 0.9147\n",
      "Epoch [   31/  100] | d_loss: 1.3015 | g_loss: 0.9275\n",
      "Epoch [   31/  100] | d_loss: 1.3138 | g_loss: 0.8571\n",
      "Epoch [   32/  100] | d_loss: 1.4473 | g_loss: 1.0446\n",
      "Epoch [   32/  100] | d_loss: 1.3601 | g_loss: 0.8569\n",
      "Epoch [   32/  100] | d_loss: 1.3497 | g_loss: 1.1447\n",
      "Epoch [   33/  100] | d_loss: 1.3097 | g_loss: 0.9312\n",
      "Epoch [   33/  100] | d_loss: 1.2297 | g_loss: 0.8427\n",
      "Epoch [   33/  100] | d_loss: 1.3767 | g_loss: 0.9888\n",
      "Epoch [   34/  100] | d_loss: 1.4103 | g_loss: 1.0074\n",
      "Epoch [   34/  100] | d_loss: 1.2887 | g_loss: 1.3813\n",
      "Epoch [   34/  100] | d_loss: 1.4124 | g_loss: 1.0305\n",
      "Epoch [   35/  100] | d_loss: 1.2903 | g_loss: 1.4930\n",
      "Epoch [   35/  100] | d_loss: 1.2853 | g_loss: 1.1063\n",
      "Epoch [   35/  100] | d_loss: 1.3590 | g_loss: 0.8336\n",
      "Epoch [   36/  100] | d_loss: 1.2528 | g_loss: 1.1407\n",
      "Epoch [   36/  100] | d_loss: 1.2837 | g_loss: 0.9159\n",
      "Epoch [   36/  100] | d_loss: 1.3054 | g_loss: 0.9376\n",
      "Epoch [   37/  100] | d_loss: 1.3185 | g_loss: 1.0969\n",
      "Epoch [   37/  100] | d_loss: 1.3231 | g_loss: 1.0193\n",
      "Epoch [   37/  100] | d_loss: 1.1893 | g_loss: 1.1872\n",
      "Epoch [   38/  100] | d_loss: 1.2588 | g_loss: 0.9422\n",
      "Epoch [   38/  100] | d_loss: 1.3096 | g_loss: 1.0268\n",
      "Epoch [   38/  100] | d_loss: 1.2939 | g_loss: 1.0809\n",
      "Epoch [   39/  100] | d_loss: 1.2790 | g_loss: 0.9080\n",
      "Epoch [   39/  100] | d_loss: 1.2559 | g_loss: 0.8858\n",
      "Epoch [   39/  100] | d_loss: 1.2385 | g_loss: 0.9013\n",
      "Epoch [   40/  100] | d_loss: 1.2831 | g_loss: 1.0460\n",
      "Epoch [   40/  100] | d_loss: 1.2431 | g_loss: 0.8523\n",
      "Epoch [   40/  100] | d_loss: 1.2808 | g_loss: 0.9697\n",
      "Epoch [   41/  100] | d_loss: 1.2396 | g_loss: 1.0183\n",
      "Epoch [   41/  100] | d_loss: 1.3279 | g_loss: 0.9124\n",
      "Epoch [   41/  100] | d_loss: 1.3573 | g_loss: 0.9520\n",
      "Epoch [   42/  100] | d_loss: 1.3055 | g_loss: 1.5928\n",
      "Epoch [   42/  100] | d_loss: 1.3200 | g_loss: 0.9897\n",
      "Epoch [   42/  100] | d_loss: 1.2700 | g_loss: 1.0655\n",
      "Epoch [   43/  100] | d_loss: 1.3399 | g_loss: 1.1781\n",
      "Epoch [   43/  100] | d_loss: 1.2921 | g_loss: 1.0338\n",
      "Epoch [   43/  100] | d_loss: 1.2296 | g_loss: 1.0598\n",
      "Epoch [   44/  100] | d_loss: 1.2839 | g_loss: 0.9136\n",
      "Epoch [   44/  100] | d_loss: 1.2497 | g_loss: 0.9804\n",
      "Epoch [   44/  100] | d_loss: 1.3181 | g_loss: 1.1166\n",
      "Epoch [   45/  100] | d_loss: 1.2909 | g_loss: 1.1172\n",
      "Epoch [   45/  100] | d_loss: 1.3164 | g_loss: 0.9838\n",
      "Epoch [   45/  100] | d_loss: 1.3133 | g_loss: 1.2741\n",
      "Epoch [   46/  100] | d_loss: 1.2552 | g_loss: 0.9811\n",
      "Epoch [   46/  100] | d_loss: 1.3395 | g_loss: 1.0956\n",
      "Epoch [   46/  100] | d_loss: 1.3185 | g_loss: 0.9943\n",
      "Epoch [   47/  100] | d_loss: 1.3503 | g_loss: 0.9119\n",
      "Epoch [   47/  100] | d_loss: 1.3269 | g_loss: 0.9397\n",
      "Epoch [   47/  100] | d_loss: 1.4155 | g_loss: 0.9336\n",
      "Epoch [   48/  100] | d_loss: 1.3115 | g_loss: 1.1567\n",
      "Epoch [   48/  100] | d_loss: 1.2261 | g_loss: 0.9983\n",
      "Epoch [   48/  100] | d_loss: 1.3393 | g_loss: 0.9634\n",
      "Epoch [   49/  100] | d_loss: 1.2510 | g_loss: 0.8538\n",
      "Epoch [   49/  100] | d_loss: 1.2862 | g_loss: 0.9247\n",
      "Epoch [   49/  100] | d_loss: 1.3058 | g_loss: 1.0236\n",
      "Epoch [   50/  100] | d_loss: 1.3237 | g_loss: 0.8466\n",
      "Epoch [   50/  100] | d_loss: 1.2848 | g_loss: 0.9426\n",
      "Epoch [   50/  100] | d_loss: 1.3663 | g_loss: 0.8404\n",
      "Epoch [   51/  100] | d_loss: 1.3352 | g_loss: 0.9041\n",
      "Epoch [   51/  100] | d_loss: 1.2416 | g_loss: 0.9153\n",
      "Epoch [   51/  100] | d_loss: 1.3044 | g_loss: 1.0914\n"
     ]
    },
    {
     "name": "stdout",
     "output_type": "stream",
     "text": [
      "Epoch [   52/  100] | d_loss: 1.3150 | g_loss: 1.0022\n",
      "Epoch [   52/  100] | d_loss: 1.2169 | g_loss: 0.9017\n",
      "Epoch [   52/  100] | d_loss: 1.4265 | g_loss: 0.8595\n",
      "Epoch [   53/  100] | d_loss: 1.2083 | g_loss: 0.9844\n",
      "Epoch [   53/  100] | d_loss: 1.2454 | g_loss: 0.9995\n",
      "Epoch [   53/  100] | d_loss: 1.3419 | g_loss: 1.3266\n",
      "Epoch [   54/  100] | d_loss: 1.3908 | g_loss: 0.8458\n",
      "Epoch [   54/  100] | d_loss: 1.3493 | g_loss: 0.9183\n",
      "Epoch [   54/  100] | d_loss: 1.4200 | g_loss: 1.0526\n",
      "Epoch [   55/  100] | d_loss: 1.3621 | g_loss: 1.0017\n",
      "Epoch [   55/  100] | d_loss: 1.2940 | g_loss: 0.9367\n",
      "Epoch [   55/  100] | d_loss: 1.3605 | g_loss: 1.2325\n",
      "Epoch [   56/  100] | d_loss: 1.3418 | g_loss: 0.8325\n",
      "Epoch [   56/  100] | d_loss: 1.2366 | g_loss: 0.9899\n",
      "Epoch [   56/  100] | d_loss: 1.2921 | g_loss: 1.0072\n",
      "Epoch [   57/  100] | d_loss: 1.4153 | g_loss: 1.2052\n",
      "Epoch [   57/  100] | d_loss: 1.2958 | g_loss: 0.9947\n",
      "Epoch [   57/  100] | d_loss: 1.3186 | g_loss: 1.0700\n",
      "Epoch [   58/  100] | d_loss: 1.1988 | g_loss: 1.0793\n",
      "Epoch [   58/  100] | d_loss: 1.3296 | g_loss: 0.8167\n",
      "Epoch [   58/  100] | d_loss: 1.2934 | g_loss: 1.1735\n",
      "Epoch [   59/  100] | d_loss: 1.3504 | g_loss: 0.9504\n",
      "Epoch [   59/  100] | d_loss: 1.2507 | g_loss: 1.1657\n",
      "Epoch [   59/  100] | d_loss: 1.2340 | g_loss: 1.5855\n",
      "Epoch [   60/  100] | d_loss: 1.3383 | g_loss: 0.9884\n",
      "Epoch [   60/  100] | d_loss: 1.2646 | g_loss: 1.0451\n",
      "Epoch [   60/  100] | d_loss: 1.2677 | g_loss: 0.8322\n",
      "Epoch [   61/  100] | d_loss: 1.2443 | g_loss: 1.0672\n",
      "Epoch [   61/  100] | d_loss: 1.1377 | g_loss: 1.3828\n",
      "Epoch [   61/  100] | d_loss: 1.4497 | g_loss: 1.0912\n",
      "Epoch [   62/  100] | d_loss: 1.2077 | g_loss: 1.1450\n",
      "Epoch [   62/  100] | d_loss: 1.2293 | g_loss: 0.8636\n",
      "Epoch [   62/  100] | d_loss: 1.3745 | g_loss: 1.0253\n",
      "Epoch [   63/  100] | d_loss: 1.2335 | g_loss: 0.9667\n",
      "Epoch [   63/  100] | d_loss: 1.2280 | g_loss: 1.1259\n",
      "Epoch [   63/  100] | d_loss: 1.4076 | g_loss: 1.0052\n",
      "Epoch [   64/  100] | d_loss: 1.3342 | g_loss: 0.8952\n",
      "Epoch [   64/  100] | d_loss: 1.3383 | g_loss: 1.0358\n",
      "Epoch [   64/  100] | d_loss: 1.3754 | g_loss: 1.0403\n",
      "Epoch [   65/  100] | d_loss: 1.3273 | g_loss: 1.1524\n",
      "Epoch [   65/  100] | d_loss: 1.3175 | g_loss: 1.1272\n",
      "Epoch [   65/  100] | d_loss: 1.3293 | g_loss: 0.9961\n",
      "Epoch [   66/  100] | d_loss: 1.3440 | g_loss: 0.7666\n",
      "Epoch [   66/  100] | d_loss: 1.2758 | g_loss: 0.9164\n",
      "Epoch [   66/  100] | d_loss: 1.4059 | g_loss: 1.0538\n",
      "Epoch [   67/  100] | d_loss: 1.2829 | g_loss: 1.0070\n",
      "Epoch [   67/  100] | d_loss: 1.3194 | g_loss: 0.8419\n",
      "Epoch [   67/  100] | d_loss: 1.3673 | g_loss: 0.9881\n",
      "Epoch [   68/  100] | d_loss: 1.3027 | g_loss: 1.0359\n",
      "Epoch [   68/  100] | d_loss: 1.2725 | g_loss: 0.8470\n",
      "Epoch [   68/  100] | d_loss: 1.2880 | g_loss: 1.0186\n",
      "Epoch [   69/  100] | d_loss: 1.3203 | g_loss: 0.9560\n",
      "Epoch [   69/  100] | d_loss: 1.2769 | g_loss: 1.0669\n",
      "Epoch [   69/  100] | d_loss: 1.2098 | g_loss: 1.4942\n",
      "Epoch [   70/  100] | d_loss: 1.3499 | g_loss: 0.7399\n",
      "Epoch [   70/  100] | d_loss: 1.2991 | g_loss: 0.7939\n",
      "Epoch [   70/  100] | d_loss: 1.4809 | g_loss: 1.0739\n",
      "Epoch [   71/  100] | d_loss: 1.1713 | g_loss: 1.1342\n",
      "Epoch [   71/  100] | d_loss: 1.3228 | g_loss: 1.0928\n",
      "Epoch [   71/  100] | d_loss: 1.3742 | g_loss: 1.0338\n",
      "Epoch [   72/  100] | d_loss: 1.2496 | g_loss: 0.9734\n",
      "Epoch [   72/  100] | d_loss: 1.2580 | g_loss: 0.8851\n",
      "Epoch [   72/  100] | d_loss: 1.4423 | g_loss: 1.4559\n",
      "Epoch [   73/  100] | d_loss: 1.3413 | g_loss: 0.9242\n",
      "Epoch [   73/  100] | d_loss: 1.2394 | g_loss: 1.6585\n",
      "Epoch [   73/  100] | d_loss: 1.3353 | g_loss: 1.0743\n",
      "Epoch [   74/  100] | d_loss: 1.2755 | g_loss: 1.2881\n",
      "Epoch [   74/  100] | d_loss: 1.2927 | g_loss: 0.9504\n",
      "Epoch [   74/  100] | d_loss: 1.4070 | g_loss: 1.0496\n",
      "Epoch [   75/  100] | d_loss: 1.2968 | g_loss: 0.9573\n",
      "Epoch [   75/  100] | d_loss: 1.2729 | g_loss: 0.9173\n",
      "Epoch [   75/  100] | d_loss: 1.2861 | g_loss: 1.1159\n",
      "Epoch [   76/  100] | d_loss: 1.3124 | g_loss: 1.1502\n",
      "Epoch [   76/  100] | d_loss: 1.1973 | g_loss: 1.1951\n",
      "Epoch [   76/  100] | d_loss: 1.3056 | g_loss: 0.8476\n",
      "Epoch [   77/  100] | d_loss: 1.3057 | g_loss: 1.1935\n",
      "Epoch [   77/  100] | d_loss: 1.2742 | g_loss: 1.1205\n",
      "Epoch [   77/  100] | d_loss: 1.3666 | g_loss: 0.9885\n",
      "Epoch [   78/  100] | d_loss: 1.4117 | g_loss: 1.1237\n",
      "Epoch [   78/  100] | d_loss: 1.2404 | g_loss: 0.9257\n",
      "Epoch [   78/  100] | d_loss: 1.4094 | g_loss: 1.0872\n",
      "Epoch [   79/  100] | d_loss: 1.3111 | g_loss: 1.0443\n",
      "Epoch [   79/  100] | d_loss: 1.2324 | g_loss: 0.9050\n",
      "Epoch [   79/  100] | d_loss: 1.3335 | g_loss: 0.9461\n",
      "Epoch [   80/  100] | d_loss: 1.3431 | g_loss: 0.9816\n",
      "Epoch [   80/  100] | d_loss: 1.3284 | g_loss: 1.0507\n",
      "Epoch [   80/  100] | d_loss: 1.3273 | g_loss: 0.9646\n",
      "Epoch [   81/  100] | d_loss: 1.3012 | g_loss: 0.8611\n",
      "Epoch [   81/  100] | d_loss: 1.2680 | g_loss: 1.0068\n",
      "Epoch [   81/  100] | d_loss: 1.4454 | g_loss: 0.9509\n",
      "Epoch [   82/  100] | d_loss: 1.2813 | g_loss: 1.0138\n",
      "Epoch [   82/  100] | d_loss: 1.2847 | g_loss: 1.1085\n",
      "Epoch [   82/  100] | d_loss: 1.3929 | g_loss: 1.1759\n",
      "Epoch [   83/  100] | d_loss: 1.2694 | g_loss: 1.1313\n",
      "Epoch [   83/  100] | d_loss: 1.2155 | g_loss: 1.2655\n",
      "Epoch [   83/  100] | d_loss: 1.3659 | g_loss: 1.0848\n",
      "Epoch [   84/  100] | d_loss: 1.2777 | g_loss: 0.8691\n",
      "Epoch [   84/  100] | d_loss: 1.2827 | g_loss: 1.0637\n",
      "Epoch [   84/  100] | d_loss: 1.3032 | g_loss: 0.9005\n",
      "Epoch [   85/  100] | d_loss: 1.3146 | g_loss: 1.0721\n",
      "Epoch [   85/  100] | d_loss: 1.2609 | g_loss: 1.0752\n",
      "Epoch [   85/  100] | d_loss: 1.2544 | g_loss: 1.3758\n",
      "Epoch [   86/  100] | d_loss: 1.3125 | g_loss: 1.0110\n",
      "Epoch [   86/  100] | d_loss: 1.2938 | g_loss: 0.9875\n",
      "Epoch [   86/  100] | d_loss: 1.3475 | g_loss: 0.9631\n",
      "Epoch [   87/  100] | d_loss: 1.3325 | g_loss: 1.1260\n",
      "Epoch [   87/  100] | d_loss: 1.1605 | g_loss: 0.9732\n",
      "Epoch [   87/  100] | d_loss: 1.3825 | g_loss: 1.0176\n",
      "Epoch [   88/  100] | d_loss: 1.3154 | g_loss: 1.0436\n",
      "Epoch [   88/  100] | d_loss: 1.2743 | g_loss: 1.0653\n",
      "Epoch [   88/  100] | d_loss: 1.3897 | g_loss: 0.9491\n",
      "Epoch [   89/  100] | d_loss: 1.2729 | g_loss: 1.0907\n",
      "Epoch [   89/  100] | d_loss: 1.3273 | g_loss: 1.0349\n",
      "Epoch [   89/  100] | d_loss: 1.2786 | g_loss: 1.4232\n",
      "Epoch [   90/  100] | d_loss: 1.2967 | g_loss: 1.0060\n",
      "Epoch [   90/  100] | d_loss: 1.3494 | g_loss: 0.8630\n",
      "Epoch [   90/  100] | d_loss: 1.3145 | g_loss: 1.0979\n",
      "Epoch [   91/  100] | d_loss: 1.2573 | g_loss: 0.9452\n",
      "Epoch [   91/  100] | d_loss: 1.2207 | g_loss: 0.9193\n",
      "Epoch [   91/  100] | d_loss: 1.3310 | g_loss: 1.1314\n",
      "Epoch [   92/  100] | d_loss: 1.2654 | g_loss: 0.9036\n",
      "Epoch [   92/  100] | d_loss: 1.3083 | g_loss: 1.0899\n",
      "Epoch [   92/  100] | d_loss: 1.2512 | g_loss: 1.2718\n",
      "Epoch [   93/  100] | d_loss: 1.3224 | g_loss: 0.8729\n",
      "Epoch [   93/  100] | d_loss: 1.1769 | g_loss: 0.9708\n",
      "Epoch [   93/  100] | d_loss: 1.3782 | g_loss: 1.1138\n",
      "Epoch [   94/  100] | d_loss: 1.2450 | g_loss: 1.4210\n",
      "Epoch [   94/  100] | d_loss: 1.2956 | g_loss: 1.0408\n",
      "Epoch [   94/  100] | d_loss: 1.3050 | g_loss: 0.9319\n",
      "Epoch [   95/  100] | d_loss: 1.4353 | g_loss: 1.0397\n",
      "Epoch [   95/  100] | d_loss: 1.1082 | g_loss: 1.1906\n",
      "Epoch [   95/  100] | d_loss: 1.4125 | g_loss: 1.3625\n",
      "Epoch [   96/  100] | d_loss: 1.2087 | g_loss: 1.4372\n",
      "Epoch [   96/  100] | d_loss: 1.3387 | g_loss: 0.9873\n",
      "Epoch [   96/  100] | d_loss: 1.3898 | g_loss: 1.1720\n",
      "Epoch [   97/  100] | d_loss: 1.2037 | g_loss: 1.0976\n",
      "Epoch [   97/  100] | d_loss: 1.2719 | g_loss: 0.8990\n",
      "Epoch [   97/  100] | d_loss: 1.3230 | g_loss: 1.0728\n",
      "Epoch [   98/  100] | d_loss: 1.4664 | g_loss: 1.0544\n",
      "Epoch [   98/  100] | d_loss: 1.3053 | g_loss: 0.9264\n",
      "Epoch [   98/  100] | d_loss: 1.3073 | g_loss: 0.9237\n",
      "Epoch [   99/  100] | d_loss: 1.2699 | g_loss: 1.0676\n",
      "Epoch [   99/  100] | d_loss: 1.2072 | g_loss: 1.0578\n",
      "Epoch [   99/  100] | d_loss: 1.2973 | g_loss: 0.8752\n",
      "Epoch [  100/  100] | d_loss: 1.3366 | g_loss: 1.0456\n",
      "Epoch [  100/  100] | d_loss: 1.2893 | g_loss: 1.4434\n",
      "Epoch [  100/  100] | d_loss: 1.2807 | g_loss: 1.1656\n"
     ]
    }
   ],
   "source": [
    "import pickle as pkl\n",
    "\n",
    "# training hyperparams\n",
    "num_epochs = 100\n",
    "\n",
    "# keep track of loss and generated, \"fake\" samples\n",
    "samples = []\n",
    "losses = []\n",
    "\n",
    "print_every = 400\n",
    "\n",
    "# Get some fixed data for sampling. These are images that are held\n",
    "# constant throughout training, and allow us to inspect the model's performance\n",
    "sample_size=16\n",
    "fixed_z = np.random.uniform(-1, 1, size=(sample_size, z_size))\n",
    "fixed_z = torch.from_numpy(fixed_z).float()\n",
    "\n",
    "# train the network\n",
    "D.train()\n",
    "G.train()\n",
    "for epoch in range(num_epochs):\n",
    "    \n",
    "    for batch_i, (real_images, _) in enumerate(train_loader):\n",
    "                \n",
    "        batch_size = real_images.size(0)\n",
    "        \n",
    "        ## Important rescaling step ## \n",
    "        real_images = real_images*2 - 1  # rescale input images from [0,1) to [-1, 1)\n",
    "        \n",
    "        # ============================================\n",
    "        #            TRAIN THE DISCRIMINATOR\n",
    "        # ============================================\n",
    "        \n",
    "        d_optimizer.zero_grad()\n",
    "        \n",
    "        # 1. Train with real images\n",
    "\n",
    "        # Compute the discriminator losses on real images \n",
    "        # smooth the real labels\n",
    "        D_real = D(real_images)\n",
    "        d_real_loss = real_loss(D_real, smooth=True)\n",
    "        \n",
    "        # 2. Train with fake images\n",
    "        \n",
    "        # Generate fake images\n",
    "        z = np.random.uniform(-1, 1, size=(batch_size, z_size))\n",
    "        z = torch.from_numpy(z).float()\n",
    "        fake_images = G(z)\n",
    "        \n",
    "        # Compute the discriminator losses on fake images        \n",
    "        D_fake = D(fake_images)\n",
    "        d_fake_loss = fake_loss(D_fake)\n",
    "        \n",
    "        # add up loss and perform backprop\n",
    "        d_loss = d_real_loss + d_fake_loss\n",
    "        d_loss.backward()\n",
    "        d_optimizer.step()\n",
    "        \n",
    "        \n",
    "        # =========================================\n",
    "        #            TRAIN THE GENERATOR\n",
    "        # =========================================\n",
    "        g_optimizer.zero_grad()\n",
    "        \n",
    "        # 1. Train with fake images and flipped labels\n",
    "        \n",
    "        # Generate fake images\n",
    "        z = np.random.uniform(-1, 1, size=(batch_size, z_size))\n",
    "        z = torch.from_numpy(z).float()\n",
    "        fake_images = G(z)\n",
    "        \n",
    "        # Compute the discriminator losses on fake images \n",
    "        # using flipped labels!\n",
    "        D_fake = D(fake_images)\n",
    "        g_loss = real_loss(D_fake) # use real loss to flip labels\n",
    "        \n",
    "        # perform backprop\n",
    "        g_loss.backward()\n",
    "        g_optimizer.step()\n",
    "\n",
    "        # Print some loss stats\n",
    "        if batch_i % print_every == 0:\n",
    "            # print discriminator and generator loss\n",
    "            print('Epoch [{:5d}/{:5d}] | d_loss: {:6.4f} | g_loss: {:6.4f}'.format(\n",
    "                    epoch+1, num_epochs, d_loss.item(), g_loss.item()))\n",
    "\n",
    "    \n",
    "    ## AFTER EACH EPOCH##\n",
    "    # append discriminator loss and generator loss\n",
    "    losses.append((d_loss.item(), g_loss.item()))\n",
    "    \n",
    "    # generate and save sample, fake images\n",
    "    G.eval() # eval mode for generating samples\n",
    "    samples_z = G(fixed_z)\n",
    "    samples.append(samples_z)\n",
    "    G.train() # back to train mode\n",
    "\n",
    "\n",
    "# Save training generator samples\n",
    "with open('train_samples.pkl', 'wb') as f:\n",
    "    pkl.dump(samples, f)"
   ]
  },
  {
   "cell_type": "markdown",
   "metadata": {},
   "source": [
    "### 5.8 Training loss\n",
    "\n",
    "Here we'll plot the training losses for the generator and discriminator, recorded after each epoch."
   ]
  },
  {
   "cell_type": "code",
   "execution_count": 11,
   "metadata": {},
   "outputs": [
    {
     "data": {
      "text/plain": [
       "<matplotlib.legend.Legend at 0x7fb0e03ceda0>"
      ]
     },
     "execution_count": 11,
     "metadata": {},
     "output_type": "execute_result"
    },
    {
     "data": {
      "image/png": "[encoded data removed]",
      "text/plain": [
       "<Figure size 432x288 with 1 Axes>"
      ]
     },
     "metadata": {
      "needs_background": "light"
     },
     "output_type": "display_data"
    }
   ],
   "source": [
    "fig, ax = plt.subplots()\n",
    "losses = np.array(losses)\n",
    "plt.plot(losses.T[0], label='Discriminator')\n",
    "plt.plot(losses.T[1], label='Generator')\n",
    "plt.title(\"Training Losses\")\n",
    "plt.legend()"
   ]
  },
  {
   "cell_type": "markdown",
   "metadata": {},
   "source": [
    "### 5.8 Generator samples from training\n",
    "\n",
    "Here we can view samples of images from the generator. First we'll look at the images we saved during training."
   ]
  },
  {
   "cell_type": "code",
   "execution_count": 12,
   "metadata": {},
   "outputs": [],
   "source": [
    "# helper function for viewing a list of passed in sample images\n",
    "def view_samples(epoch, samples):\n",
    "    fig, axes = plt.subplots(figsize=(7,7), nrows=4, ncols=4, sharey=True, sharex=True)\n",
    "    for ax, img in zip(axes.flatten(), samples[epoch]):\n",
    "        img = img.detach()\n",
    "        ax.xaxis.set_visible(False)\n",
    "        ax.yaxis.set_visible(False)\n",
    "        im = ax.imshow(img.reshape((28,28)), cmap='Greys_r')"
   ]
  },
  {
   "cell_type": "code",
   "execution_count": 13,
   "metadata": {},
   "outputs": [],
   "source": [
    "# Load samples from generator, taken while training\n",
    "with open('train_samples.pkl', 'rb') as f:\n",
    "    samples = pkl.load(f)"
   ]
  },
  {
   "cell_type": "markdown",
   "metadata": {},
   "source": [
    "These are samples from the final training epoch. You can see the generator is able to reproduce numbers like 1, 7, 3, 2. Since this is just a sample, it isn't representative of the full range of images this generator can make."
   ]
  },
  {
   "cell_type": "code",
   "execution_count": 14,
   "metadata": {},
   "outputs": [
    {
     "data": {
      "image/png": "[encoded data removed]",
      "text/plain": [
       "<Figure size 504x504 with 16 Axes>"
      ]
     },
     "metadata": {
      "needs_background": "light"
     },
     "output_type": "display_data"
    }
   ],
   "source": [
    "# -1 indicates final epoch's samples (the last in the list)\n",
    "view_samples(-1, samples)"
   ]
  },
  {
   "cell_type": "markdown",
   "metadata": {},
   "source": [
    "Below I'm showing the generated images as the network was training, every 10 epochs."
   ]
  },
  {
   "cell_type": "code",
   "execution_count": 15,
   "metadata": {},
   "outputs": [
    {
     "data": {
      "image/png": "[encoded data removed]",
      "text/plain": [
       "<Figure size 504x864 with 60 Axes>"
      ]
     },
     "metadata": {
      "needs_background": "light"
     },
     "output_type": "display_data"
    }
   ],
   "source": [
    "rows = 10 # split epochs into 10, so 100/10 = every 10 epochs\n",
    "cols = 6\n",
    "fig, axes = plt.subplots(figsize=(7,12), nrows=rows, ncols=cols, sharex=True, sharey=True)\n",
    "\n",
    "for sample, ax_row in zip(samples[::int(len(samples)/rows)], axes):\n",
    "    for img, ax in zip(sample[::int(len(sample)/cols)], ax_row):\n",
    "        img = img.detach()\n",
    "        ax.imshow(img.reshape((28,28)), cmap='Greys_r')\n",
    "        ax.xaxis.set_visible(False)\n",
    "        ax.yaxis.set_visible(False)"
   ]
  },
  {
   "cell_type": "markdown",
   "metadata": {},
   "source": [
    "It starts out as all noise. Then it learns to make only the center white and the rest black. You can start to see some number like structures appear out of the noise like 1s and 9s."
   ]
  },
  {
   "cell_type": "markdown",
   "metadata": {},
   "source": [
    "### 5.9 Sampling from the generator\n",
    "\n",
    "We can also get completely new images from the generator by using the checkpoint we saved after training. **We just need to pass in a new latent vector $z$ and we'll get new samples**!"
   ]
  },
  {
   "cell_type": "code",
   "execution_count": 16,
   "metadata": {},
   "outputs": [
    {
     "name": "stderr",
     "output_type": "stream",
     "text": [
      "/home/jim/anaconda2/envs/py3.5/lib/python3.5/site-packages/torch/nn/functional.py:1374: UserWarning: nn.functional.tanh is deprecated. Use torch.tanh instead.\n",
      "  warnings.warn(\"nn.functional.tanh is deprecated. Use torch.tanh instead.\")\n"
     ]
    },
    {
     "data": {
      "image/png": "[encoded data removed]",
      "text/plain": [
       "<Figure size 504x504 with 16 Axes>"
      ]
     },
     "metadata": {
      "needs_background": "light"
     },
     "output_type": "display_data"
    }
   ],
   "source": [
    "# randomly generated, new latent vectors\n",
    "sample_size=16\n",
    "rand_z = np.random.uniform(-1, 1, size=(sample_size, z_size))\n",
    "rand_z = torch.from_numpy(rand_z).float()\n",
    "\n",
    "G.eval() # eval mode\n",
    "# generated samples\n",
    "rand_images = G(rand_z)\n",
    "\n",
    "# 0 indicates the first set of samples in the passed in list\n",
    "# and we only have one batch of samples, here\n",
    "view_samples(0, [rand_images])"
   ]
  }
 ],
 "metadata": {
  "kernelspec": {
   "display_name": "Python py3.5",
   "language": "python",
   "name": "py3.5"
  },
  "language_info": {
   "codemirror_mode": {
    "name": "ipython",
    "version": 3
   },
   "file_extension": ".py",
   "mimetype": "text/x-python",
   "name": "python",
   "nbconvert_exporter": "python",
   "pygments_lexer": "ipython3",
   "version": "3.5.6"
  }
 },
 "nbformat": 4,
 "nbformat_minor": 2
}
