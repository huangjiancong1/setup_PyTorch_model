{
 "cells": [
  {
   "cell_type": "markdown",
   "metadata": {},
   "source": [
    "# Use pytorch in distance\n"
   ]
  },
  {
   "cell_type": "code",
   "execution_count": 3,
   "metadata": {},
   "outputs": [],
   "source": [
    "import numpy as np\n",
    "import torch\n",
    "\n",
    "samples = []\n",
    "from scipy.stats import multivariate_normal\n",
    "for i in range(784):\n",
    "    x = np.random.rand(19)\n",
    "    y = multivariate_normal.pdf(x, mean=2.5, cov=0.5);\n",
    "\n",
    "    samples.append(y)\n",
    "\n"
   ]
  },
  {
   "cell_type": "code",
   "execution_count": 4,
   "metadata": {},
   "outputs": [],
   "source": [
    "from torch import nn\n",
    "import torch.nn.functional as F\n",
    "\n",
    "class Network(nn.Module):\n",
    "    def __init__(self):\n",
    "        super().__init__()\n",
    "        # Defining the layers, 128, 64, 10 units each\n",
    "        self.fc1 = nn.Linear(19, 128)\n",
    "        self.fc2 = nn.Linear(128, 64)\n",
    "        # Output layer, 10 units - one for each digit\n",
    "        self.fc3 = nn.Linear(64, 1)\n",
    "        \n",
    "    def forward(self, x):\n",
    "        ''' Forward pass through the network, returns the output logits '''\n",
    "        \n",
    "        x = self.fc1(x)\n",
    "        x = F.relu(x)\n",
    "        x = self.fc2(x)\n",
    "        x = F.relu(x)\n",
    "        x = self.fc3(x)\n",
    "#         x = F.softmax(x, dim=1)\n",
    "        \n",
    "        return x\n",
    "    \n",
    "model = Network()\n"
   ]
  },
  {
   "cell_type": "code",
   "execution_count": 5,
   "metadata": {},
   "outputs": [],
   "source": [
    "from torch import optim\n",
    "\n",
    "# https://pytorch.org/docs/stable/nn.html\n",
    "criterion = nn.L1Loss()\n",
    "\n",
    "\n",
    "optimizer = optim.SGD(model.parameters(), lr=0.003)\n",
    "# criterion = nn.CrossEntropyLoss()\n"
   ]
  },
  {
   "cell_type": "code",
   "execution_count": 7,
   "metadata": {
    "scrolled": true
   },
   "outputs": [
    {
     "name": "stdout",
     "output_type": "stream",
     "text": [
      "tensor([0.0472])\n",
      "Training loss: 0.004129091619837041\n",
      "Training loss: 0.004161949754141423\n",
      "Training loss: 0.004094392251299352\n",
      "Training loss: 0.004000822737889022\n",
      "Training loss: 0.004109085917624892\n",
      "Training loss: 0.003958505293240352\n",
      "Training loss: 0.0040169617123141585\n",
      "Training loss: 0.003993554173835686\n",
      "Training loss: 0.003971532766460156\n",
      "Training loss: 0.0039765391574830425\n",
      "Training loss: 0.004004289244054531\n",
      "Training loss: 0.003984496054448643\n",
      "Training loss: 0.004069297061282761\n",
      "Training loss: 0.003946385631451802\n",
      "Training loss: 0.0039278197539400084\n",
      "Training loss: 0.004013137226658208\n",
      "Training loss: 0.003893345252287631\n",
      "Training loss: 0.003877510924880602\n",
      "Training loss: 0.003862112969616238\n",
      "Training loss: 0.003872616273560086\n"
     ]
    }
   ],
   "source": [
    "epochs = 20\n",
    "## initial dataset\n",
    "initial = np.random.rand(19)\n",
    "sample_ = torch.from_numpy(initial).float()\n",
    "output_ = model(sample_).data\n",
    "print (output_)\n",
    "\n",
    "for e in range(epochs):\n",
    "    running_loss = 0\n",
    "    for sample in samples:\n",
    "        sample = torch.from_numpy(sample).float()\n",
    "        optimizer.zero_grad()\n",
    "        output = model(sample)\n",
    "        loss = criterion(output, output_)\n",
    "#         loss = torch.div(output, output_, out=None)\n",
    "        loss.backward()\n",
    "        optimizer.step()\n",
    "        output_ = output.data\n",
    "        \n",
    "        running_loss += loss.item()\n",
    "    else:\n",
    "        print(\"Training loss: \" + str(running_loss/len(samples)))"
   ]
  },
  {
   "cell_type": "code",
   "execution_count": null,
   "metadata": {},
   "outputs": [],
   "source": []
  }
 ],
 "metadata": {
  "kernelspec": {
   "display_name": "Python py3.5",
   "language": "python",
   "name": "py3.5"
  },
  "language_info": {
   "codemirror_mode": {
    "name": "ipython",
    "version": 3
   },
   "file_extension": ".py",
   "mimetype": "text/x-python",
   "name": "python",
   "nbconvert_exporter": "python",
   "pygments_lexer": "ipython3",
   "version": "3.5.6"
  }
 },
 "nbformat": 4,
 "nbformat_minor": 2
}
